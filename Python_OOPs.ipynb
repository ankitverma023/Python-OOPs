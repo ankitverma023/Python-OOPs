{
  "nbformat": 4,
  "nbformat_minor": 0,
  "metadata": {
    "colab": {
      "provenance": []
    },
    "kernelspec": {
      "name": "python3",
      "display_name": "Python 3"
    },
    "language_info": {
      "name": "python"
    }
  },
  "cells": [
    {
      "cell_type": "markdown",
      "source": [
        "#Python OOPs"
      ],
      "metadata": {
        "id": "b3o_FrpYuiqK"
      }
    },
    {
      "cell_type": "markdown",
      "source": [
        "1. What is Object-Oriented Programming (OOP)?\n",
        "- OOP is a programming paradigm based on the concept of objects, which can contain data in the form of fields (attributes) and code in the form of procedures (methods). OOP emphasizes concepts such as inheritance, encapsulation, polymorphism, and abstraction.\n",
        "\n",
        "2. What is a class in OOP?\n",
        "- A class is a blueprint or template for creating objects. It defines the attributes and methods that its objects will have.\n",
        "3. What is an object in OOP?\n",
        "- An object is an instance of a class. It represents a specific entity with the attributes and behavior defined by its class.\n",
        "4. What is the difference between abstraction and encapsulation?\n",
        "-  Abstraction focuses on hiding the complexity by showing only the essential features of an object (e.g., using interfaces or abstract classes).\n",
        "- Encapsulation involves bundling the data (attributes) and methods (functions) together and restricting direct access to some of the object's components (e.g., using private variables).\n",
        "5. What are dunder methods in Python?\n",
        "- Dunder (double underscore) methods, also called magic methods, are special methods in Python prefixed and suffixed with __ (e.g., __init__, __str__). They enable operator overloading and other functionalities.\n",
        "6. Explain the concept of inheritance in OOP?\n",
        "- Inheritance allows one class (child class) to acquire the properties and methods of another class (parent class), promoting code reuse.\n",
        "7. What is polymorphism in OOP?\n",
        "- Polymorphism allows objects of different classes to be treated as objects of a common super class. It enables a single interface to represent different underlying forms (e.g., method overriding or operator overloading).\n",
        "8. How is encapsulation achieved in Python?\n",
        "- Encapsulation is implemented using private (__var) and protected (_var) attributes, along with getter and setter methods.\n",
        "9. What is a constructor in Python?\n",
        "- A constructor (__init__ method) is a special method automatically invoked when creating an object. It initializes the object's attributes.\n",
        "10. What are class and static methods in Python?\n",
        "- Class methods are defined with @classmethod and take cls as their first parameter, allowing access to class variables.\n",
        "- Static methods are defined with @staticmethod and do not take any implicit first argument. They are independent of class or instance.\n",
        "11. What is method overloading in Python?\n",
        "- Method overloading refers to defining multiple methods with the same name but different arguments. Python does not natively support it, but it can be mimicked using default arguments or *args/**kwargs.\n",
        "12. What is method overriding in OOP?\n",
        "- Method overriding occurs when a child class provides a specific implementation for a method that is already defined in its parent class.\n",
        "\n",
        "13. What is a property decorator in Python?\n",
        "- The property decorator converts a method into a property, allowing you to access it like an attribute while maintaining encapsulation.\n",
        "\n",
        "14. Why is polymorphism important in OOP?\n",
        "- Polymorphism improves flexibility and maintainability by allowing a single function or method to work on objects of different types.\n",
        "15. What is an abstract class in Python?\n",
        "- An abstract class in Python (defined using the abc module) cannot be instantiated and serves as a blueprint for other classes, requiring derived classes to implement its abstract methods.\n",
        "16. What are the advantages of OOP?\n",
        "- Encapsulation: Combines data and methods in a single unit (class), improving security and modularity.\n",
        "Inheritance: Promotes code reuse by allowing new classes to inherit attributes and behaviors from existing ones.\n",
        "Polymorphism: Enables a single interface to represent different underlying data types.\n",
        "Abstraction: Hides complexity by exposing only essential details, simplifying programming tasks.\n",
        "Reusability: Classes can be reused across multiple programs, reducing development time.\n",
        "Scalability and maintainability: Easier to extend and maintain code.\n",
        "17. What is the difference between a class variable and an instance variable?\n",
        "- Class Variable:\n",
        "\n",
        " Shared across all instances of the class.\n",
        "Defined outside methods, within the class body.\n",
        "Accessed or modified using the class name or any instance.\n",
        "- Instance Variable:\n",
        "Unique to each object of the class.\n",
        "Defined inside methods, usually in __init__.\n",
        "Accessed or modified only through the specific instance.\n",
        "18. What is multiple inheritance in Python?\n",
        "- Definition: A feature where a class can inherit from more than one parent class.\n",
        "\n",
        " Example:\n",
        "\n",
        "class A:  \n",
        "    def method_a(self):  \n",
        "        print(\"Method from A\")  \n",
        "\n",
        "class B:  \n",
        "    def method_b(self):  \n",
        "        print(\"Method from B\")  \n",
        "\n",
        "class C(A, B):  \n",
        "    pass  \n",
        "\n",
        "obj = C()  \n",
        "obj.method_a()  # Inherited from A  \n",
        "obj.method_b()  # Inherited from B  \n",
        "19. Explain the purpose of ‘’__str__’ and ‘__repr__’ ‘ methods in Python.\n",
        "- __str__: Provides a user-friendly string representation of an object. Used by print().\n",
        "- __repr__: Provides a developer-friendly representation, often for debugging. Used by repr().\n",
        "Example:\n",
        "\n",
        "\n",
        "class Example:  \n",
        "    def __str__(self):  \n",
        "        return \"User-friendly String\"  \n",
        "    def __repr__(self):  \n",
        "        return \"Developer-friendly String\"  \n",
        "20. What is the significance of the ‘super()’ function in Python?\n",
        "- Purpose: Calls methods from a parent class, ensuring that the child class doesn’t override them.\n",
        "Usage: Used in inheritance to initialize parent class attributes or invoke its methods.\n",
        "\n",
        "class Parent:  \n",
        "    def __init__(self):  \n",
        "        print(\"Parent init\")  \n",
        "\n",
        "class Child(Parent):  \n",
        "    def __init__(self):  \n",
        "        super().__init__()  # Calls Parent's init  \n",
        "        print(\"Child init\")  \n",
        "21. What is the significance of the __del__ method in Python?\n",
        "- Purpose: Acts as a destructor to clean up resources before an object is destroyed.\n",
        "Example:\n",
        "\n",
        "class Example:  \n",
        "    def __del__(self):  \n",
        "        print(\"Object is being deleted.\")  \n",
        "obj = Example()  \n",
        "del obj  \n",
        "22. What is the difference between @staticmethod and @classmethod in Python?\n",
        "- @staticmethod:\n",
        "\n",
        "Doesn't access class (cls) or instance (self) data.\n",
        "Used for independent utility functions.\n",
        "- @classmethod:\n",
        "\n",
        "Takes cls as its first argument to access or modify class-level data.\n",
        "Used for class-level operations, like alternative constructors.\n",
        "23. How does polymorphism work in Python with inheritance?\n",
        "- Definition: Allows objects of different classes to be treated as objects of a common parent class.\n",
        "\n",
        "Example:\n",
        "\n",
        "class Animal:  \n",
        "    def sound(self):  \n",
        "        pass  \n",
        "\n",
        "class Dog(Animal):  \n",
        "    def sound(self):  \n",
        "        return \"Bark\"  \n",
        "\n",
        "class Cat(Animal):  \n",
        "    def sound(self):  \n",
        "        return \"Meow\"  \n",
        "\n",
        "for animal in [Dog(), Cat()]:  \n",
        "    print(animal.sound())  \n",
        "\n",
        "24. What is method chaining in Python OOP?\n",
        "- Definition: Calling multiple methods on the same object sequentially.\n",
        "Example:\n",
        "\n",
        "class Example:\n",
        "\n",
        "    def method1(self):  \n",
        "        print(\"Method1\")  \n",
        "        return self  \n",
        "    def method2(self):  \n",
        "        print(\"Method2\")  \n",
        "        return self  \n",
        "\n",
        "obj = Example()  \n",
        "obj.method1().method2()  # Chain methods  \n",
        "25. What is the purpose of the __call__ method in Python?\n",
        "- Definition: Makes an instance of a class callable like a function.\n",
        "\n",
        "Example:\n",
        "\n",
        "class Example:  \n",
        "    def __call__(self, *args):  \n",
        "        print(\"Called with:\", args)  \n",
        "\n",
        "obj = Example()  \n",
        "obj(1, 2, 3)  # Output: Called with: (1, 2, 3)  "
      ],
      "metadata": {
        "id": "WwauUkIjuogO"
      }
    },
    {
      "cell_type": "markdown",
      "source": [],
      "metadata": {
        "id": "qVsjaZXn3caC"
      }
    },
    {
      "cell_type": "markdown",
      "source": [
        "#practical question\n"
      ],
      "metadata": {
        "id": "pezufqXF3rrT"
      }
    },
    {
      "cell_type": "code",
      "source": [
        "\"\"\"1. Create a parent class Animal with a method speak() that prints a generic message. Create a child class Dog\n",
        "that overrides the speak() method to print \"Bark!\".\"\"\"\n",
        "class Animal:\n",
        "    def speak(self):\n",
        "        print(\"This is a generic animal sound.\")\n",
        "\n",
        "class Dog(Animal):\n",
        "    def speak(self):\n",
        "        print(\"Bark!\")\n",
        "\n",
        "d = Dog()\n",
        "d.speak()"
      ],
      "metadata": {
        "colab": {
          "base_uri": "https://localhost:8080/"
        },
        "id": "qmafHYWK3e79",
        "outputId": "428980e2-d3a8-4cb4-8826-072a152a2515"
      },
      "execution_count": null,
      "outputs": [
        {
          "output_type": "stream",
          "name": "stdout",
          "text": [
            "Bark!\n"
          ]
        }
      ]
    },
    {
      "cell_type": "markdown",
      "source": [],
      "metadata": {
        "id": "-UZ8fb3t3quw"
      }
    },
    {
      "cell_type": "code",
      "execution_count": null,
      "metadata": {
        "colab": {
          "base_uri": "https://localhost:8080/"
        },
        "id": "NWKsegHBuasm",
        "outputId": "e62d3cc3-d56a-44b7-9472-88562e564d45"
      },
      "outputs": [
        {
          "output_type": "stream",
          "name": "stdout",
          "text": [
            "78.5\n",
            "24\n"
          ]
        }
      ],
      "source": [
        "\"\"\"2. Write a program to create an abstract class Shape with a method area(). Derive classes Circle and Rectangle\n",
        "from it and implement the area() method in both.\"\"\"\n",
        "from abc import ABC, abstractmethod\n",
        "\n",
        "class Shape(ABC):\n",
        "    @abstractmethod\n",
        "    def area(self):\n",
        "        pass\n",
        "\n",
        "class Circle(Shape):\n",
        "    def __init__(self, radius):\n",
        "        self.radius = radius\n",
        "\n",
        "    def area(self):\n",
        "        return 3.14 * self.radius**2\n",
        "\n",
        "class Rectangle(Shape):\n",
        "    def __init__(self, length, width):\n",
        "        self.length = length\n",
        "        self.width = width\n",
        "\n",
        "    def area(self):\n",
        "        return self.length * self.width\n",
        "\n",
        "# Example usage\n",
        "circle = Circle(5)\n",
        "rectangle = Rectangle(4, 6)\n",
        "print(circle.area())\n",
        "print(rectangle.area())\n"
      ]
    },
    {
      "cell_type": "code",
      "source": [
        "\"\"\" 3. Implement a multi-level inheritance scenario where a class Vehicle has an attribute type. Derive a class Car\n",
        "and further derive a class ElectricCar that adds a battery attribute.\n",
        "\"\"\"\n",
        "class Vehicle:\n",
        "    def __init__(self, type):\n",
        "        self.type = type\n",
        "\n",
        "class Car(Vehicle):\n",
        "    def __init__(self, type, brand):\n",
        "        super().__init__(type)\n",
        "        self.brand = brand\n",
        "\n",
        "class ElectricCar(Car):\n",
        "    def __init__(self, type, brand, battery):\n",
        "        super().__init__(type, brand)\n",
        "        self.battery = battery\n",
        "\n",
        "# Example usage\n",
        "ecar = ElectricCar(\"Electric\", \"Tesla\", \"100 kWh\")\n",
        "print(ecar.type, ecar.brand, ecar.battery)\n"
      ],
      "metadata": {
        "colab": {
          "base_uri": "https://localhost:8080/"
        },
        "id": "AVgUky3455gB",
        "outputId": "bd3adcb7-b0ee-4099-93f7-63be5017bb36"
      },
      "execution_count": null,
      "outputs": [
        {
          "output_type": "stream",
          "name": "stdout",
          "text": [
            "Electric Tesla 100 kWh\n"
          ]
        }
      ]
    },
    {
      "cell_type": "code",
      "source": [
        "\"\"\"4. Implement a multi-level inheritance scenario where a class Vehicle has an attribute type. Derive a class Car\n",
        "and further derive a class ElectricCar that adds a battery attribute.\n",
        "\"\"\"\n",
        "class BankAccount:\n",
        "    def __init__(self):\n",
        "        self.__balance = 0\n",
        "\n",
        "    def deposit(self, amount):\n",
        "        if amount > 0:\n",
        "            self.__balance += amount\n",
        "\n",
        "    def withdraw(self, amount):\n",
        "        if 0 < amount <= self.__balance:\n",
        "            self.__balance -= amount\n",
        "\n",
        "    def get_balance(self):\n",
        "        return self.__balance\n",
        "\n",
        "# Example usage\n",
        "account = BankAccount()\n",
        "account.deposit(100)\n",
        "account.withdraw(50)\n",
        "print(account.get_balance())\n"
      ],
      "metadata": {
        "colab": {
          "base_uri": "https://localhost:8080/"
        },
        "id": "kDASekpf6Of2",
        "outputId": "e9712be0-7904-4163-8654-08ca19dfbec2"
      },
      "execution_count": null,
      "outputs": [
        {
          "output_type": "stream",
          "name": "stdout",
          "text": [
            "50\n"
          ]
        }
      ]
    },
    {
      "cell_type": "code",
      "source": [
        "\"\"\"5. Write a program to demonstrate encapsulation by creating a class BankAccount with private attributes\n",
        "balance and methods to deposit, withdraw, and check balance.\n",
        "\"\"\"\n",
        "class BankAccount:\n",
        "    def __init__(self):\n",
        "        self.__balance = 0\n",
        "\n",
        "    def deposit(self, amount):\n",
        "        if amount > 0:\n",
        "            self.__balance += amount\n",
        "\n",
        "    def withdraw(self, amount):\n",
        "        if 0 < amount <= self.__balance:\n",
        "            self.__balance -= amount\n",
        "\n",
        "    def get_balance(self):\n",
        "        return self.__balance\n",
        "\n",
        "# Example usage\n",
        "account = BankAccount()\n",
        "account.deposit(100)\n",
        "account.withdraw(50)\n",
        "print(account.get_balance())\n"
      ],
      "metadata": {
        "colab": {
          "base_uri": "https://localhost:8080/"
        },
        "id": "wOjWeHu26a5Q",
        "outputId": "0f5f2861-d521-4d56-8a03-cb8c65f8820b"
      },
      "execution_count": null,
      "outputs": [
        {
          "output_type": "stream",
          "name": "stdout",
          "text": [
            "50\n"
          ]
        }
      ]
    },
    {
      "cell_type": "code",
      "source": [
        "\"\"\"6. Demonstrate runtime polymorphism using a method play() in a base class Instrument. Derive classes Guitar\n",
        "and Piano that implement their own version of play().\"\"\"\n",
        "class Instrument:\n",
        "    def play(self):\n",
        "        print(\"Playing an instrument\")\n",
        "\n",
        "class Guitar(Instrument):\n",
        "    def play(self):\n",
        "        print(\"Strumming the guitar\")\n",
        "\n",
        "class Piano(Instrument):\n",
        "    def play(self):\n",
        "        print(\"Playing the piano\")\n",
        "\n",
        "# Example usage\n",
        "for instrument in [Guitar(), Piano()]:\n",
        "    instrument.play()\n"
      ],
      "metadata": {
        "colab": {
          "base_uri": "https://localhost:8080/"
        },
        "id": "XC9ahyrV_ikL",
        "outputId": "67784e74-6148-4369-ad6c-38974f99d78b"
      },
      "execution_count": 8,
      "outputs": [
        {
          "output_type": "stream",
          "name": "stdout",
          "text": [
            "Strumming the guitar\n",
            "Playing the piano\n"
          ]
        }
      ]
    },
    {
      "cell_type": "code",
      "source": [
        "\"\"\"7. Create a class MathOperations with a class method add_numbers() to add two numbers and a static\n",
        "method subtract_numbers() to subtract two numbers.\"\"\"\n",
        "class MathOperations:\n",
        "    @classmethod\n",
        "    def add_numbers(cls, a, b):\n",
        "        return a + b\n",
        "\n",
        "    @staticmethod\n",
        "    def subtract_numbers(a, b):\n",
        "        return a - b\n",
        "\n",
        "# Example usage\n",
        "print(MathOperations.add_numbers(10, 5))\n",
        "print(MathOperations.subtract_numbers(10, 5))\n"
      ],
      "metadata": {
        "colab": {
          "base_uri": "https://localhost:8080/"
        },
        "id": "wWtdKBmAACen",
        "outputId": "81a453bb-7421-4a00-9cae-75f655917be1"
      },
      "execution_count": 9,
      "outputs": [
        {
          "output_type": "stream",
          "name": "stdout",
          "text": [
            "15\n",
            "5\n"
          ]
        }
      ]
    },
    {
      "cell_type": "code",
      "source": [
        "\"\"\"8. Implement a class Person with a class method to count the total number of persons created.\"\"\"\n",
        "class Person:\n",
        "    count = 0\n",
        "\n",
        "    def __init__(self, name):\n",
        "        self.name = name\n",
        "        Person.count += 1\n",
        "\n",
        "    @classmethod\n",
        "    def total_persons(cls):\n",
        "        return cls.count\n",
        "\n",
        "# Example usage\n",
        "p1 = Person(\"Alice\")\n",
        "p2 = Person(\"Bob\")\n",
        "print(Person.total_persons())\n"
      ],
      "metadata": {
        "colab": {
          "base_uri": "https://localhost:8080/"
        },
        "id": "q1CRvzJXARzJ",
        "outputId": "3a9a5445-f7bf-4bf5-fd27-4c18edce610e"
      },
      "execution_count": 10,
      "outputs": [
        {
          "output_type": "stream",
          "name": "stdout",
          "text": [
            "2\n"
          ]
        }
      ]
    },
    {
      "cell_type": "code",
      "source": [
        "\"\"\"9.. Write a class Fraction with attributes numerator and denominator. Override the str method to display the\n",
        "fraction as \"numerator/denominator\".\"\"\"\n",
        "class Fraction:\n",
        "    def __init__(self, numerator, denominator):\n",
        "        self.numerator = numerator\n",
        "        self.denominator = denominator\n",
        "\n",
        "    def __str__(self):\n",
        "        return f\"{self.numerator}/{self.denominator}\"\n",
        "\n",
        "# Example usage\n",
        "fraction = Fraction(3, 4)\n",
        "print(fraction)\n"
      ],
      "metadata": {
        "colab": {
          "base_uri": "https://localhost:8080/"
        },
        "id": "axjCMKwcAd7v",
        "outputId": "2853410c-f51a-43d1-b968-46977a4706c8"
      },
      "execution_count": 11,
      "outputs": [
        {
          "output_type": "stream",
          "name": "stdout",
          "text": [
            "3/4\n"
          ]
        }
      ]
    },
    {
      "cell_type": "code",
      "source": [
        "\"\"\"10. Demonstrate operator overloading by creating a class Vector and overriding the add method to add two\n",
        "vectors.\"\"\"\n",
        "class Vector:\n",
        "    def __init__(self, x, y):\n",
        "        self.x = x\n",
        "        self.y = y\n",
        "\n",
        "    def __add__(self, other):\n",
        "        return Vector(self.x + other.x, self.y + other.y)\n",
        "\n",
        "    def __str__(self):\n",
        "        return f\"({self.x}, {self.y})\"\n",
        "\n",
        "# Example usage\n",
        "v1 = Vector(1, 2)\n",
        "v2 = Vector(3, 4)\n",
        "print(v1 + v2)\n"
      ],
      "metadata": {
        "colab": {
          "base_uri": "https://localhost:8080/"
        },
        "id": "75euzQLsAnpS",
        "outputId": "9268812b-ceda-42ae-c612-f39fad273b5d"
      },
      "execution_count": 12,
      "outputs": [
        {
          "output_type": "stream",
          "name": "stdout",
          "text": [
            "(4, 6)\n"
          ]
        }
      ]
    },
    {
      "cell_type": "code",
      "source": [
        "\"\"\"11.. Create a class Person with attributes name and age. Add a method greet() that prints \"Hello, my name is\n",
        "{name} and I am {age} years old.\" \"\"\"\n",
        "class Person:\n",
        "    def __init__(self, name, age):\n",
        "        self.name = name\n",
        "        self.age = age\n",
        "\n",
        "    def greet(self):\n",
        "        print(f\"Hello, my name is {self.name} and I am {self.age} years old.\")\n",
        "\n",
        "# Example usage\n",
        "person = Person(\"Alice\", 25)\n",
        "person.greet()\n"
      ],
      "metadata": {
        "colab": {
          "base_uri": "https://localhost:8080/"
        },
        "id": "epPsAZpTAwGG",
        "outputId": "c588909d-f88f-4edf-bfc2-a135a9c5dd04"
      },
      "execution_count": 13,
      "outputs": [
        {
          "output_type": "stream",
          "name": "stdout",
          "text": [
            "Hello, my name is Alice and I am 25 years old.\n"
          ]
        }
      ]
    },
    {
      "cell_type": "code",
      "source": [
        "\"\"\"12.. Implement a class Student with attributes name and grades. Create a method average_grade() to compute\n",
        "the average of the grades.\"\"\"\n",
        "class Student:\n",
        "    def __init__(self, name, grades):\n",
        "        self.name = name\n",
        "        self.grades = grades\n",
        "\n",
        "    def average_grade(self):\n",
        "        return sum(self.grades) / len(self.grades)\n",
        "\n",
        "# Example usage\n",
        "student = Student(\"Bob\", [85, 90, 95])\n",
        "print(student.average_grade())\n"
      ],
      "metadata": {
        "colab": {
          "base_uri": "https://localhost:8080/"
        },
        "id": "BWw1gw09A92Y",
        "outputId": "c3d79ef4-4465-485f-a776-fa5088894786"
      },
      "execution_count": 16,
      "outputs": [
        {
          "output_type": "stream",
          "name": "stdout",
          "text": [
            "90.0\n"
          ]
        }
      ]
    },
    {
      "cell_type": "code",
      "source": [
        "\"\"\"13.. Create a class Rectangle with methods set_dimensions() to set the dimensions and area() to calculate the\n",
        "area.\"\"\"\n",
        "class Rectangle:\n",
        "    def set_dimensions(self, length, width):\n",
        "        self.length = length\n",
        "        self.width = width\n",
        "\n",
        "    def area(self):\n",
        "        return self.length * self.width\n",
        "\n",
        "# Example usage\n",
        "rect = Rectangle()\n",
        "rect.set_dimensions(4, 5)\n",
        "print(rect.area())\n"
      ],
      "metadata": {
        "colab": {
          "base_uri": "https://localhost:8080/"
        },
        "id": "eW7Kb9KABJwv",
        "outputId": "cdafce3a-ff10-445c-f197-c1eef56e2098"
      },
      "execution_count": 15,
      "outputs": [
        {
          "output_type": "stream",
          "name": "stdout",
          "text": [
            "20\n"
          ]
        }
      ]
    },
    {
      "cell_type": "code",
      "source": [
        "\"\"\"14. Create a class Employee with a method calculate_salary() that computes the salary based on hours worked\n",
        "and hourly rate. Create a derived class Manager that adds a bonus to the salary.\"\"\"\n",
        "class Employee:\n",
        "    def __init__(self, hours_worked, hourly_rate):\n",
        "        self.hours_worked = hours_worked\n",
        "        self.hourly_rate = hourly_rate\n",
        "\n",
        "    def calculate_salary(self):\n",
        "        return self.hours_worked * self.hourly_rate\n",
        "\n",
        "class Manager(Employee):\n",
        "    def __init__(self, hours_worked, hourly_rate, bonus):\n",
        "        super().__init__(hours_worked, hourly_rate)\n",
        "        self.bonus = bonus\n",
        "\n",
        "    def calculate_salary(self):\n",
        "        return super().calculate_salary() + self.bonus\n",
        "\n",
        "# Example usage\n",
        "manager = Manager(40, 50, 500)\n",
        "print(manager.calculate_salary())\n"
      ],
      "metadata": {
        "colab": {
          "base_uri": "https://localhost:8080/"
        },
        "id": "2iqd9-WyBmY2",
        "outputId": "f4141433-7235-442b-ad6b-b2c18eac9075"
      },
      "execution_count": 17,
      "outputs": [
        {
          "output_type": "stream",
          "name": "stdout",
          "text": [
            "2500\n"
          ]
        }
      ]
    },
    {
      "cell_type": "code",
      "source": [
        "\"\"\"15. Create a class Product with attributes name, price, and quantity. Implement a method total_price() that\n",
        "calculates the total price of the product.\"\"\"\n",
        "class Product:\n",
        "    def __init__(self, name, price, quantity):\n",
        "        self.name = name\n",
        "        self.price = price\n",
        "        self.quantity = quantity\n",
        "\n",
        "    def total_price(self):\n",
        "        return self.price * self.quantity\n",
        "\n",
        "# Example usage\n",
        "product = Product(\"Laptop\", 1000, 2)\n",
        "print(product.total_price())\n"
      ],
      "metadata": {
        "colab": {
          "base_uri": "https://localhost:8080/"
        },
        "id": "T8fwTlqLB2kI",
        "outputId": "d350ee34-5fbf-4258-b6bd-5ff74f0809e6"
      },
      "execution_count": 18,
      "outputs": [
        {
          "output_type": "stream",
          "name": "stdout",
          "text": [
            "2000\n"
          ]
        }
      ]
    },
    {
      "cell_type": "code",
      "source": [
        "\"\"\"16. Create a class Animal with an abstract method sound(). Create two derived classes Cow and Sheep that\n",
        "implement the sound() method.\"\"\"\n",
        "from abc import ABC, abstractmethod\n",
        "\n",
        "class Animal(ABC):\n",
        "    @abstractmethod\n",
        "    def sound(self):\n",
        "        pass\n",
        "\n",
        "class Cow(Animal):\n",
        "    def sound(self):\n",
        "        return \"Moo\"\n",
        "\n",
        "class Sheep(Animal):\n",
        "    def sound(self):\n",
        "        return \"Baa\"\n",
        "\n",
        "# Example usage\n",
        "cow = Cow()\n",
        "sheep = Sheep()\n",
        "print(cow.sound())\n",
        "print(sheep.sound())\n"
      ],
      "metadata": {
        "colab": {
          "base_uri": "https://localhost:8080/"
        },
        "id": "NAIK-1IdB_4R",
        "outputId": "d2a96c91-12e4-43da-f93d-9295b8239cfd"
      },
      "execution_count": 19,
      "outputs": [
        {
          "output_type": "stream",
          "name": "stdout",
          "text": [
            "Moo\n",
            "Baa\n"
          ]
        }
      ]
    },
    {
      "cell_type": "code",
      "source": [
        "\"\"\"17. Create a class Book with attributes title, author, and year_published. Add a method get_book_info() that\n",
        "returns a formatted string with the book's details.\"\"\"\n",
        "class Book:\n",
        "    def __init__(self, title, author, year_published):\n",
        "        self.title = title\n",
        "        self.author = author\n",
        "        self.year_published = year_published\n",
        "\n",
        "    def get_book_info(self):\n",
        "        return f\"{self.title} by {self.author}, published in {self.year_published}\"\n",
        "\n",
        "# Example usage\n",
        "book = Book(\"The Great Gatsby\", \"F. Scott Fitzgerald\", 1925)\n",
        "print(book.get_book_info())\n"
      ],
      "metadata": {
        "colab": {
          "base_uri": "https://localhost:8080/"
        },
        "id": "FxSkDnplCSMY",
        "outputId": "e92ddbb4-ef6e-4967-ef6c-248156be8a98"
      },
      "execution_count": 20,
      "outputs": [
        {
          "output_type": "stream",
          "name": "stdout",
          "text": [
            "The Great Gatsby by F. Scott Fitzgerald, published in 1925\n"
          ]
        }
      ]
    },
    {
      "cell_type": "code",
      "source": [
        "\"\"\"18. Create a class House with attributes address and price. Create a derived class Mansion that adds an\n",
        "attribute number_of_rooms.\"\"\"\n",
        "class House:\n",
        "    def __init__(self, address, price):\n",
        "        self.address = address\n",
        "        self.price = price\n",
        "\n",
        "class Mansion(House):\n",
        "    def __init__(self, address, price, number_of_rooms):\n",
        "        super().__init__(address, price)\n",
        "        self.number_of_rooms = number_of_rooms\n",
        "\n",
        "# Example usage\n",
        "mansion = Mansion(\"123 Luxury St\", 5000000, 10)\n",
        "print(mansion.address, mansion.price, mansion.number_of_rooms)\n"
      ],
      "metadata": {
        "colab": {
          "base_uri": "https://localhost:8080/"
        },
        "id": "uDIVu1p1Cf6l",
        "outputId": "a5b6db0c-10b8-443f-e887-a86c9b9a2a28"
      },
      "execution_count": 21,
      "outputs": [
        {
          "output_type": "stream",
          "name": "stdout",
          "text": [
            "123 Luxury St 5000000 10\n"
          ]
        }
      ]
    }
  ]
}